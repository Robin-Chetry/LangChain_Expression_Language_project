{
 "cells": [
  {
   "cell_type": "markdown",
   "metadata": {},
   "source": [
    "### Build a Simple LLM Application with LCEL\n",
    "In this quickstart we'll show you how to build a simple LLM application with LangChain. This application will translate text from English into another language. This is a relatively simple LLM application - it's just a single LLM call plus some prompting. Still, this is a great way to get started with LangChain - a lot of features can be built with just some prompting and an LLM call!\n",
    "\n",
    "After seeing this video, you'll have a high level overview of:\n",
    "\n",
    "- Using language models\n",
    "\n",
    "- Using PromptTemplates and OutputParsers\n",
    "\n",
    "- Using LangChain Expression Language (LCEL) to chain components together\n",
    "\n",
    "- Debugging and tracing your application using LangSmith\n",
    "\n",
    "- Deploying your application with LangServe"
   ]
  },
  {
   "cell_type": "markdown",
   "metadata": {},
   "source": [
    "What is Groq?\n",
    "Groq is a company that builds specialized hardware and software designed specifically for AI inference, which is the process of using a trained machine learning model to make predictions or generate responses (like what LLMs do when you ask them questions).\n",
    "\n",
    "Key Features:\n",
    "High-speed inference: Groq is optimized for ultra-fast response times when running large language models (LLMs).\n",
    "\n",
    "Custom hardware: Instead of relying on traditional GPUs, Groq uses a unique chip called the LPU (Language Processing Unit).\n",
    "\n",
    "Low latency: Groq systems are designed to generate hundreds of tokens per second, making them ideal for real-time applications.\n",
    "\n",
    "Groq offers a cloud-based service that allows developers to run open-source LLMs like LLaMA 3, Mistral, or Gemma extremely fast without needing powerful local hardware.\n",
    "\n",
    "What is an LPU (Language Processing Unit)?\n",
    "The LPU is Groq’s custom processor built specifically for running language models efficiently."
   ]
  },
  {
   "cell_type": "markdown",
   "metadata": {},
   "source": [
    "| Processor | Purpose                    | Commonly Used For                     |\n",
    "| --------- | -------------------------- | ------------------------------------- |\n",
    "| CPU       | General-purpose processing | Everyday computing tasks              |\n",
    "| GPU       | Parallel processing        | Model training and inference          |\n",
    "| TPU       | Google's custom AI chip    | Training large models (deep learning) |\n",
    "| LPU       | Groq's inference chip      | Fast and efficient LLM inference      |\n"
   ]
  },
  {
   "cell_type": "markdown",
   "metadata": {},
   "source": [
    "START  \n",
    "  │  \n",
    "  ▼  \n",
    "[.env File] ←── contains: GROQ_API_KEY  \n",
    "  │  \n",
    "  ▼  \n",
    "[load_dotenv()]  \n",
    "  │  \n",
    "  ▼  \n",
    "[os.getenv(\"GROQ_API_KEY\")] ─────► Retrieve API Key  \n",
    "  │  \n",
    "  ▼  \n",
    "[Create Groq Model using ChatGroq(model=\"llama2-7b-chat\", api_key)]  \n",
    "  │  \n",
    "  ▼  \n",
    "[Define Prompt Template]  \n",
    "  │  \n",
    "  ▼  \n",
    "[User Input]  \n",
    "   ├─ language = \"Hindi\"  \n",
    "   └─ text = \"My name is robin\"  \n",
    "  │  \n",
    "  ▼  \n",
    "[Prompt Template Fills Variables]  \n",
    "   ├─ SystemMessage: \"Translate the following into Hindi:\"  \n",
    "   └─ HumanMessage: \"My name is robin\"  \n",
    "  │  \n",
    "  ▼  \n",
    "[Model Invocation (model.invoke(...))] ──► Calls Groq API  \n",
    "  │  \n",
    "  ▼  \n",
    "[LLM Response]  \n",
    "   └─ e.g., AI returns: \"मेरा नाम रॉबिन है\"  \n",
    "  │  \n",
    "  ▼  \n",
    "[StrOutputParser]  \n",
    "   └─ Extracts plain string from response  \n",
    "  │  \n",
    "  ▼  \n",
    "🎉 **FINAL OUTPUT:** `\"मेरा नाम रॉबिन है\"`\n"
   ]
  },
  {
   "cell_type": "code",
   "execution_count": 2,
   "metadata": {},
   "outputs": [
    {
     "name": "stdout",
     "output_type": "stream",
     "text": [
      "Requirement already satisfied: langchain in c:\\users\\rohit rawat\\desktop\\gen_ai\\langchain_expression_language_project\\projenv\\lib\\site-packages (0.3.26)\n",
      "Requirement already satisfied: langchain-core<1.0.0,>=0.3.66 in c:\\users\\rohit rawat\\desktop\\gen_ai\\langchain_expression_language_project\\projenv\\lib\\site-packages (from langchain) (0.3.66)\n",
      "Requirement already satisfied: langchain-text-splitters<1.0.0,>=0.3.8 in c:\\users\\rohit rawat\\desktop\\gen_ai\\langchain_expression_language_project\\projenv\\lib\\site-packages (from langchain) (0.3.8)\n",
      "Requirement already satisfied: langsmith>=0.1.17 in c:\\users\\rohit rawat\\desktop\\gen_ai\\langchain_expression_language_project\\projenv\\lib\\site-packages (from langchain) (0.4.4)\n",
      "Requirement already satisfied: pydantic<3.0.0,>=2.7.4 in c:\\users\\rohit rawat\\desktop\\gen_ai\\langchain_expression_language_project\\projenv\\lib\\site-packages (from langchain) (2.11.7)\n",
      "Requirement already satisfied: SQLAlchemy<3,>=1.4 in c:\\users\\rohit rawat\\desktop\\gen_ai\\langchain_expression_language_project\\projenv\\lib\\site-packages (from langchain) (2.0.41)\n",
      "Requirement already satisfied: requests<3,>=2 in c:\\users\\rohit rawat\\desktop\\gen_ai\\langchain_expression_language_project\\projenv\\lib\\site-packages (from langchain) (2.32.4)\n",
      "Requirement already satisfied: PyYAML>=5.3 in c:\\users\\rohit rawat\\desktop\\gen_ai\\langchain_expression_language_project\\projenv\\lib\\site-packages (from langchain) (6.0.2)\n",
      "Requirement already satisfied: tenacity!=8.4.0,<10.0.0,>=8.1.0 in c:\\users\\rohit rawat\\desktop\\gen_ai\\langchain_expression_language_project\\projenv\\lib\\site-packages (from langchain-core<1.0.0,>=0.3.66->langchain) (9.1.2)\n",
      "Requirement already satisfied: jsonpatch<2.0,>=1.33 in c:\\users\\rohit rawat\\desktop\\gen_ai\\langchain_expression_language_project\\projenv\\lib\\site-packages (from langchain-core<1.0.0,>=0.3.66->langchain) (1.33)\n",
      "Requirement already satisfied: packaging<25,>=23.2 in c:\\users\\rohit rawat\\desktop\\gen_ai\\langchain_expression_language_project\\projenv\\lib\\site-packages (from langchain-core<1.0.0,>=0.3.66->langchain) (24.2)\n",
      "Requirement already satisfied: typing-extensions>=4.7 in c:\\users\\rohit rawat\\desktop\\gen_ai\\langchain_expression_language_project\\projenv\\lib\\site-packages (from langchain-core<1.0.0,>=0.3.66->langchain) (4.14.0)\n",
      "Requirement already satisfied: jsonpointer>=1.9 in c:\\users\\rohit rawat\\desktop\\gen_ai\\langchain_expression_language_project\\projenv\\lib\\site-packages (from jsonpatch<2.0,>=1.33->langchain-core<1.0.0,>=0.3.66->langchain) (3.0.0)\n",
      "Requirement already satisfied: annotated-types>=0.6.0 in c:\\users\\rohit rawat\\desktop\\gen_ai\\langchain_expression_language_project\\projenv\\lib\\site-packages (from pydantic<3.0.0,>=2.7.4->langchain) (0.7.0)\n",
      "Requirement already satisfied: pydantic-core==2.33.2 in c:\\users\\rohit rawat\\desktop\\gen_ai\\langchain_expression_language_project\\projenv\\lib\\site-packages (from pydantic<3.0.0,>=2.7.4->langchain) (2.33.2)\n",
      "Requirement already satisfied: typing-inspection>=0.4.0 in c:\\users\\rohit rawat\\desktop\\gen_ai\\langchain_expression_language_project\\projenv\\lib\\site-packages (from pydantic<3.0.0,>=2.7.4->langchain) (0.4.1)\n",
      "Requirement already satisfied: charset_normalizer<4,>=2 in c:\\users\\rohit rawat\\desktop\\gen_ai\\langchain_expression_language_project\\projenv\\lib\\site-packages (from requests<3,>=2->langchain) (3.4.2)\n",
      "Requirement already satisfied: idna<4,>=2.5 in c:\\users\\rohit rawat\\desktop\\gen_ai\\langchain_expression_language_project\\projenv\\lib\\site-packages (from requests<3,>=2->langchain) (3.10)\n",
      "Requirement already satisfied: urllib3<3,>=1.21.1 in c:\\users\\rohit rawat\\desktop\\gen_ai\\langchain_expression_language_project\\projenv\\lib\\site-packages (from requests<3,>=2->langchain) (2.5.0)\n",
      "Requirement already satisfied: certifi>=2017.4.17 in c:\\users\\rohit rawat\\desktop\\gen_ai\\langchain_expression_language_project\\projenv\\lib\\site-packages (from requests<3,>=2->langchain) (2025.6.15)\n",
      "Requirement already satisfied: greenlet>=1 in c:\\users\\rohit rawat\\desktop\\gen_ai\\langchain_expression_language_project\\projenv\\lib\\site-packages (from SQLAlchemy<3,>=1.4->langchain) (3.2.3)\n",
      "Requirement already satisfied: httpx<1,>=0.23.0 in c:\\users\\rohit rawat\\desktop\\gen_ai\\langchain_expression_language_project\\projenv\\lib\\site-packages (from langsmith>=0.1.17->langchain) (0.28.1)\n",
      "Requirement already satisfied: orjson<4.0.0,>=3.9.14 in c:\\users\\rohit rawat\\desktop\\gen_ai\\langchain_expression_language_project\\projenv\\lib\\site-packages (from langsmith>=0.1.17->langchain) (3.10.18)\n",
      "Requirement already satisfied: requests-toolbelt<2.0.0,>=1.0.0 in c:\\users\\rohit rawat\\desktop\\gen_ai\\langchain_expression_language_project\\projenv\\lib\\site-packages (from langsmith>=0.1.17->langchain) (1.0.0)\n",
      "Requirement already satisfied: zstandard<0.24.0,>=0.23.0 in c:\\users\\rohit rawat\\desktop\\gen_ai\\langchain_expression_language_project\\projenv\\lib\\site-packages (from langsmith>=0.1.17->langchain) (0.23.0)\n",
      "Requirement already satisfied: anyio in c:\\users\\rohit rawat\\desktop\\gen_ai\\langchain_expression_language_project\\projenv\\lib\\site-packages (from httpx<1,>=0.23.0->langsmith>=0.1.17->langchain) (4.9.0)\n",
      "Requirement already satisfied: httpcore==1.* in c:\\users\\rohit rawat\\desktop\\gen_ai\\langchain_expression_language_project\\projenv\\lib\\site-packages (from httpx<1,>=0.23.0->langsmith>=0.1.17->langchain) (1.0.9)\n",
      "Requirement already satisfied: h11>=0.16 in c:\\users\\rohit rawat\\desktop\\gen_ai\\langchain_expression_language_project\\projenv\\lib\\site-packages (from httpcore==1.*->httpx<1,>=0.23.0->langsmith>=0.1.17->langchain) (0.16.0)\n",
      "Requirement already satisfied: sniffio>=1.1 in c:\\users\\rohit rawat\\desktop\\gen_ai\\langchain_expression_language_project\\projenv\\lib\\site-packages (from anyio->httpx<1,>=0.23.0->langsmith>=0.1.17->langchain) (1.3.1)\n"
     ]
    }
   ],
   "source": [
    "!pip install langchain"
   ]
  },
  {
   "cell_type": "code",
   "execution_count": 16,
   "metadata": {},
   "outputs": [],
   "source": [
    "### Open AI API Key and Open Source models--Llama3,Gemma2,mistral--Groq\n",
    "\n",
    "import os\n",
    "from dotenv import load_dotenv\n",
    "load_dotenv()\n",
    "\n",
    "# import openai\n",
    "# openai.api_key=os.getenv(\"OPENAI_API_KEY\")\n",
    "\n",
    "groq_api_key=os.getenv(\"GROQ_API_KEY\")"
   ]
  },
  {
   "cell_type": "code",
   "execution_count": 4,
   "metadata": {},
   "outputs": [
    {
     "name": "stdout",
     "output_type": "stream",
     "text": [
      "Requirement already satisfied: langchain_groq in c:\\users\\rohit rawat\\desktop\\gen_ai\\langchain_expression_language_project\\projenv\\lib\\site-packages (0.3.4)\n",
      "Requirement already satisfied: langchain-core<1.0.0,>=0.3.66 in c:\\users\\rohit rawat\\desktop\\gen_ai\\langchain_expression_language_project\\projenv\\lib\\site-packages (from langchain_groq) (0.3.66)\n",
      "Requirement already satisfied: groq<1,>=0.28.0 in c:\\users\\rohit rawat\\desktop\\gen_ai\\langchain_expression_language_project\\projenv\\lib\\site-packages (from langchain_groq) (0.29.0)\n",
      "Requirement already satisfied: anyio<5,>=3.5.0 in c:\\users\\rohit rawat\\desktop\\gen_ai\\langchain_expression_language_project\\projenv\\lib\\site-packages (from groq<1,>=0.28.0->langchain_groq) (4.9.0)\n",
      "Requirement already satisfied: distro<2,>=1.7.0 in c:\\users\\rohit rawat\\desktop\\gen_ai\\langchain_expression_language_project\\projenv\\lib\\site-packages (from groq<1,>=0.28.0->langchain_groq) (1.9.0)\n",
      "Requirement already satisfied: httpx<1,>=0.23.0 in c:\\users\\rohit rawat\\desktop\\gen_ai\\langchain_expression_language_project\\projenv\\lib\\site-packages (from groq<1,>=0.28.0->langchain_groq) (0.28.1)\n",
      "Requirement already satisfied: pydantic<3,>=1.9.0 in c:\\users\\rohit rawat\\desktop\\gen_ai\\langchain_expression_language_project\\projenv\\lib\\site-packages (from groq<1,>=0.28.0->langchain_groq) (2.11.7)\n",
      "Requirement already satisfied: sniffio in c:\\users\\rohit rawat\\desktop\\gen_ai\\langchain_expression_language_project\\projenv\\lib\\site-packages (from groq<1,>=0.28.0->langchain_groq) (1.3.1)\n",
      "Requirement already satisfied: typing-extensions<5,>=4.10 in c:\\users\\rohit rawat\\desktop\\gen_ai\\langchain_expression_language_project\\projenv\\lib\\site-packages (from groq<1,>=0.28.0->langchain_groq) (4.14.0)\n",
      "Requirement already satisfied: idna>=2.8 in c:\\users\\rohit rawat\\desktop\\gen_ai\\langchain_expression_language_project\\projenv\\lib\\site-packages (from anyio<5,>=3.5.0->groq<1,>=0.28.0->langchain_groq) (3.10)\n",
      "Requirement already satisfied: certifi in c:\\users\\rohit rawat\\desktop\\gen_ai\\langchain_expression_language_project\\projenv\\lib\\site-packages (from httpx<1,>=0.23.0->groq<1,>=0.28.0->langchain_groq) (2025.6.15)\n",
      "Requirement already satisfied: httpcore==1.* in c:\\users\\rohit rawat\\desktop\\gen_ai\\langchain_expression_language_project\\projenv\\lib\\site-packages (from httpx<1,>=0.23.0->groq<1,>=0.28.0->langchain_groq) (1.0.9)\n",
      "Requirement already satisfied: h11>=0.16 in c:\\users\\rohit rawat\\desktop\\gen_ai\\langchain_expression_language_project\\projenv\\lib\\site-packages (from httpcore==1.*->httpx<1,>=0.23.0->groq<1,>=0.28.0->langchain_groq) (0.16.0)\n",
      "Requirement already satisfied: langsmith>=0.3.45 in c:\\users\\rohit rawat\\desktop\\gen_ai\\langchain_expression_language_project\\projenv\\lib\\site-packages (from langchain-core<1.0.0,>=0.3.66->langchain_groq) (0.4.4)\n",
      "Requirement already satisfied: tenacity!=8.4.0,<10.0.0,>=8.1.0 in c:\\users\\rohit rawat\\desktop\\gen_ai\\langchain_expression_language_project\\projenv\\lib\\site-packages (from langchain-core<1.0.0,>=0.3.66->langchain_groq) (9.1.2)\n",
      "Requirement already satisfied: jsonpatch<2.0,>=1.33 in c:\\users\\rohit rawat\\desktop\\gen_ai\\langchain_expression_language_project\\projenv\\lib\\site-packages (from langchain-core<1.0.0,>=0.3.66->langchain_groq) (1.33)\n",
      "Requirement already satisfied: PyYAML>=5.3 in c:\\users\\rohit rawat\\desktop\\gen_ai\\langchain_expression_language_project\\projenv\\lib\\site-packages (from langchain-core<1.0.0,>=0.3.66->langchain_groq) (6.0.2)\n",
      "Requirement already satisfied: packaging<25,>=23.2 in c:\\users\\rohit rawat\\desktop\\gen_ai\\langchain_expression_language_project\\projenv\\lib\\site-packages (from langchain-core<1.0.0,>=0.3.66->langchain_groq) (24.2)\n",
      "Requirement already satisfied: jsonpointer>=1.9 in c:\\users\\rohit rawat\\desktop\\gen_ai\\langchain_expression_language_project\\projenv\\lib\\site-packages (from jsonpatch<2.0,>=1.33->langchain-core<1.0.0,>=0.3.66->langchain_groq) (3.0.0)\n",
      "Requirement already satisfied: annotated-types>=0.6.0 in c:\\users\\rohit rawat\\desktop\\gen_ai\\langchain_expression_language_project\\projenv\\lib\\site-packages (from pydantic<3,>=1.9.0->groq<1,>=0.28.0->langchain_groq) (0.7.0)\n",
      "Requirement already satisfied: pydantic-core==2.33.2 in c:\\users\\rohit rawat\\desktop\\gen_ai\\langchain_expression_language_project\\projenv\\lib\\site-packages (from pydantic<3,>=1.9.0->groq<1,>=0.28.0->langchain_groq) (2.33.2)\n",
      "Requirement already satisfied: typing-inspection>=0.4.0 in c:\\users\\rohit rawat\\desktop\\gen_ai\\langchain_expression_language_project\\projenv\\lib\\site-packages (from pydantic<3,>=1.9.0->groq<1,>=0.28.0->langchain_groq) (0.4.1)\n",
      "Requirement already satisfied: orjson<4.0.0,>=3.9.14 in c:\\users\\rohit rawat\\desktop\\gen_ai\\langchain_expression_language_project\\projenv\\lib\\site-packages (from langsmith>=0.3.45->langchain-core<1.0.0,>=0.3.66->langchain_groq) (3.10.18)\n",
      "Requirement already satisfied: requests<3,>=2 in c:\\users\\rohit rawat\\desktop\\gen_ai\\langchain_expression_language_project\\projenv\\lib\\site-packages (from langsmith>=0.3.45->langchain-core<1.0.0,>=0.3.66->langchain_groq) (2.32.4)\n",
      "Requirement already satisfied: requests-toolbelt<2.0.0,>=1.0.0 in c:\\users\\rohit rawat\\desktop\\gen_ai\\langchain_expression_language_project\\projenv\\lib\\site-packages (from langsmith>=0.3.45->langchain-core<1.0.0,>=0.3.66->langchain_groq) (1.0.0)\n",
      "Requirement already satisfied: zstandard<0.24.0,>=0.23.0 in c:\\users\\rohit rawat\\desktop\\gen_ai\\langchain_expression_language_project\\projenv\\lib\\site-packages (from langsmith>=0.3.45->langchain-core<1.0.0,>=0.3.66->langchain_groq) (0.23.0)\n",
      "Requirement already satisfied: charset_normalizer<4,>=2 in c:\\users\\rohit rawat\\desktop\\gen_ai\\langchain_expression_language_project\\projenv\\lib\\site-packages (from requests<3,>=2->langsmith>=0.3.45->langchain-core<1.0.0,>=0.3.66->langchain_groq) (3.4.2)\n",
      "Requirement already satisfied: urllib3<3,>=1.21.1 in c:\\users\\rohit rawat\\desktop\\gen_ai\\langchain_expression_language_project\\projenv\\lib\\site-packages (from requests<3,>=2->langsmith>=0.3.45->langchain-core<1.0.0,>=0.3.66->langchain_groq) (2.5.0)\n"
     ]
    }
   ],
   "source": [
    "!pip install langchain_groq"
   ]
  },
  {
   "cell_type": "code",
   "execution_count": 17,
   "metadata": {},
   "outputs": [],
   "source": [
    "# from langchain_openai import ChatOpenAI\n",
    "from langchain_groq import ChatGroq\n",
    "model=ChatGroq(model=\"allam-2-7b\",groq_api_key=groq_api_key)\n",
    "# model"
   ]
  },
  {
   "cell_type": "code",
   "execution_count": 6,
   "metadata": {},
   "outputs": [
    {
     "name": "stdout",
     "output_type": "stream",
     "text": [
      "Requirement already satisfied: langchain_core in c:\\users\\rohit rawat\\desktop\\gen_ai\\langchain_expression_language_project\\projenv\\lib\\site-packages (0.3.66)\n",
      "Requirement already satisfied: langsmith>=0.3.45 in c:\\users\\rohit rawat\\desktop\\gen_ai\\langchain_expression_language_project\\projenv\\lib\\site-packages (from langchain_core) (0.4.4)\n",
      "Requirement already satisfied: tenacity!=8.4.0,<10.0.0,>=8.1.0 in c:\\users\\rohit rawat\\desktop\\gen_ai\\langchain_expression_language_project\\projenv\\lib\\site-packages (from langchain_core) (9.1.2)\n",
      "Requirement already satisfied: jsonpatch<2.0,>=1.33 in c:\\users\\rohit rawat\\desktop\\gen_ai\\langchain_expression_language_project\\projenv\\lib\\site-packages (from langchain_core) (1.33)\n",
      "Requirement already satisfied: PyYAML>=5.3 in c:\\users\\rohit rawat\\desktop\\gen_ai\\langchain_expression_language_project\\projenv\\lib\\site-packages (from langchain_core) (6.0.2)\n",
      "Requirement already satisfied: packaging<25,>=23.2 in c:\\users\\rohit rawat\\desktop\\gen_ai\\langchain_expression_language_project\\projenv\\lib\\site-packages (from langchain_core) (24.2)\n",
      "Requirement already satisfied: typing-extensions>=4.7 in c:\\users\\rohit rawat\\desktop\\gen_ai\\langchain_expression_language_project\\projenv\\lib\\site-packages (from langchain_core) (4.14.0)\n",
      "Requirement already satisfied: pydantic>=2.7.4 in c:\\users\\rohit rawat\\desktop\\gen_ai\\langchain_expression_language_project\\projenv\\lib\\site-packages (from langchain_core) (2.11.7)\n",
      "Requirement already satisfied: jsonpointer>=1.9 in c:\\users\\rohit rawat\\desktop\\gen_ai\\langchain_expression_language_project\\projenv\\lib\\site-packages (from jsonpatch<2.0,>=1.33->langchain_core) (3.0.0)\n",
      "Requirement already satisfied: httpx<1,>=0.23.0 in c:\\users\\rohit rawat\\desktop\\gen_ai\\langchain_expression_language_project\\projenv\\lib\\site-packages (from langsmith>=0.3.45->langchain_core) (0.28.1)\n",
      "Requirement already satisfied: orjson<4.0.0,>=3.9.14 in c:\\users\\rohit rawat\\desktop\\gen_ai\\langchain_expression_language_project\\projenv\\lib\\site-packages (from langsmith>=0.3.45->langchain_core) (3.10.18)\n",
      "Requirement already satisfied: requests<3,>=2 in c:\\users\\rohit rawat\\desktop\\gen_ai\\langchain_expression_language_project\\projenv\\lib\\site-packages (from langsmith>=0.3.45->langchain_core) (2.32.4)\n",
      "Requirement already satisfied: requests-toolbelt<2.0.0,>=1.0.0 in c:\\users\\rohit rawat\\desktop\\gen_ai\\langchain_expression_language_project\\projenv\\lib\\site-packages (from langsmith>=0.3.45->langchain_core) (1.0.0)\n",
      "Requirement already satisfied: zstandard<0.24.0,>=0.23.0 in c:\\users\\rohit rawat\\desktop\\gen_ai\\langchain_expression_language_project\\projenv\\lib\\site-packages (from langsmith>=0.3.45->langchain_core) (0.23.0)\n",
      "Requirement already satisfied: anyio in c:\\users\\rohit rawat\\desktop\\gen_ai\\langchain_expression_language_project\\projenv\\lib\\site-packages (from httpx<1,>=0.23.0->langsmith>=0.3.45->langchain_core) (4.9.0)\n",
      "Requirement already satisfied: certifi in c:\\users\\rohit rawat\\desktop\\gen_ai\\langchain_expression_language_project\\projenv\\lib\\site-packages (from httpx<1,>=0.23.0->langsmith>=0.3.45->langchain_core) (2025.6.15)\n",
      "Requirement already satisfied: httpcore==1.* in c:\\users\\rohit rawat\\desktop\\gen_ai\\langchain_expression_language_project\\projenv\\lib\\site-packages (from httpx<1,>=0.23.0->langsmith>=0.3.45->langchain_core) (1.0.9)\n",
      "Requirement already satisfied: idna in c:\\users\\rohit rawat\\desktop\\gen_ai\\langchain_expression_language_project\\projenv\\lib\\site-packages (from httpx<1,>=0.23.0->langsmith>=0.3.45->langchain_core) (3.10)\n",
      "Requirement already satisfied: h11>=0.16 in c:\\users\\rohit rawat\\desktop\\gen_ai\\langchain_expression_language_project\\projenv\\lib\\site-packages (from httpcore==1.*->httpx<1,>=0.23.0->langsmith>=0.3.45->langchain_core) (0.16.0)\n",
      "Requirement already satisfied: annotated-types>=0.6.0 in c:\\users\\rohit rawat\\desktop\\gen_ai\\langchain_expression_language_project\\projenv\\lib\\site-packages (from pydantic>=2.7.4->langchain_core) (0.7.0)\n",
      "Requirement already satisfied: pydantic-core==2.33.2 in c:\\users\\rohit rawat\\desktop\\gen_ai\\langchain_expression_language_project\\projenv\\lib\\site-packages (from pydantic>=2.7.4->langchain_core) (2.33.2)\n",
      "Requirement already satisfied: typing-inspection>=0.4.0 in c:\\users\\rohit rawat\\desktop\\gen_ai\\langchain_expression_language_project\\projenv\\lib\\site-packages (from pydantic>=2.7.4->langchain_core) (0.4.1)\n",
      "Requirement already satisfied: charset_normalizer<4,>=2 in c:\\users\\rohit rawat\\desktop\\gen_ai\\langchain_expression_language_project\\projenv\\lib\\site-packages (from requests<3,>=2->langsmith>=0.3.45->langchain_core) (3.4.2)\n",
      "Requirement already satisfied: urllib3<3,>=1.21.1 in c:\\users\\rohit rawat\\desktop\\gen_ai\\langchain_expression_language_project\\projenv\\lib\\site-packages (from requests<3,>=2->langsmith>=0.3.45->langchain_core) (2.5.0)\n",
      "Requirement already satisfied: sniffio>=1.1 in c:\\users\\rohit rawat\\desktop\\gen_ai\\langchain_expression_language_project\\projenv\\lib\\site-packages (from anyio->httpx<1,>=0.23.0->langsmith>=0.3.45->langchain_core) (1.3.1)\n"
     ]
    }
   ],
   "source": [
    "!pip install langchain_core"
   ]
  },
  {
   "cell_type": "code",
   "execution_count": 7,
   "metadata": {},
   "outputs": [],
   "source": [
    "from langchain_core.messages import HumanMessage,SystemMessage\n",
    "\n",
    "messages=[\n",
    "    SystemMessage(content=\"Translate the following from English to French\"),\n",
    "    HumanMessage(content=\"My name is robin\")\n",
    "]\n",
    "\n",
    "result=model.invoke(messages)"
   ]
  },
  {
   "cell_type": "code",
   "execution_count": null,
   "metadata": {},
   "outputs": [
    {
     "data": {
      "text/plain": [
       "AIMessage(content='Mon nom est Robin ', additional_kwargs={}, response_metadata={'token_usage': {'completion_tokens': 6, 'prompt_tokens': 31, 'total_tokens': 37, 'completion_time': 0.004364517, 'prompt_time': 0.001525052, 'queue_time': 0.045856448, 'total_time': 0.005889569}, 'model_name': 'allam-2-7b', 'system_fingerprint': 'fp_94da58f8ea', 'finish_reason': 'stop', 'logprobs': None}, id='run--854b508f-bb63-45ad-98f4-bbacca24ad96-0', usage_metadata={'input_tokens': 31, 'output_tokens': 6, 'total_tokens': 37})"
      ]
     },
     "execution_count": 8,
     "metadata": {},
     "output_type": "execute_result"
    }
   ],
   "source": [
    "# result\n",
    "# #result.content"
   ]
  },
  {
   "cell_type": "code",
   "execution_count": 9,
   "metadata": {},
   "outputs": [
    {
     "data": {
      "text/plain": [
       "'Mon nom est Robin '"
      ]
     },
     "execution_count": 9,
     "metadata": {},
     "output_type": "execute_result"
    }
   ],
   "source": [
    "from langchain_core.output_parsers import StrOutputParser\n",
    "parser=StrOutputParser()\n",
    "parser.invoke(result)"
   ]
  },
  {
   "cell_type": "code",
   "execution_count": 10,
   "metadata": {},
   "outputs": [
    {
     "data": {
      "text/plain": [
       "'Mon nom est Robin '"
      ]
     },
     "execution_count": 10,
     "metadata": {},
     "output_type": "execute_result"
    }
   ],
   "source": [
    "### Using LCEL- chain the components\n",
    "chain=model|parser\n",
    "chain.invoke(messages)"
   ]
  },
  {
   "cell_type": "code",
   "execution_count": 11,
   "metadata": {},
   "outputs": [],
   "source": [
    "### Prompt Templates\n",
    "from langchain_core.prompts import ChatPromptTemplate\n",
    "\n",
    "generic_template=\"Trnaslate the following into {language}:\"\n",
    "\n",
    "prompt=ChatPromptTemplate.from_messages(\n",
    "    [(\"system\",generic_template),(\"user\",\"{text}\")]\n",
    ")\n",
    "\n"
   ]
  },
  {
   "cell_type": "code",
   "execution_count": 12,
   "metadata": {},
   "outputs": [],
   "source": [
    "result=prompt.invoke({\"language\":\"Hindi\",\"text\":\"robin is my name\"})"
   ]
  },
  {
   "cell_type": "code",
   "execution_count": 13,
   "metadata": {},
   "outputs": [
    {
     "data": {
      "text/plain": [
       "ChatPromptValue(messages=[SystemMessage(content='Trnaslate the following into Hindi:', additional_kwargs={}, response_metadata={}), HumanMessage(content='robin is my name', additional_kwargs={}, response_metadata={})])"
      ]
     },
     "execution_count": 13,
     "metadata": {},
     "output_type": "execute_result"
    }
   ],
   "source": [
    "result"
   ]
  },
  {
   "cell_type": "code",
   "execution_count": 14,
   "metadata": {},
   "outputs": [
    {
     "data": {
      "text/plain": [
       "'मेरा नाम रॉबिन है। (Meré naam Robin hai.) '"
      ]
     },
     "execution_count": 14,
     "metadata": {},
     "output_type": "execute_result"
    }
   ],
   "source": [
    "##Chaining together components with LCEL\n",
    "chain=prompt|model|parser\n",
    "chain.invoke({\"language\":\"hindi\",\"text\":\"My name is robin\"})"
   ]
  },
  {
   "cell_type": "code",
   "execution_count": 15,
   "metadata": {},
   "outputs": [
    {
     "name": "stdout",
     "output_type": "stream",
     "text": [
      "^C\n"
     ]
    },
    {
     "name": "stdout",
     "output_type": "stream",
     "text": [
      "Collecting streamlit\n",
      "  Using cached streamlit-1.46.1-py3-none-any.whl.metadata (9.0 kB)\n",
      "Collecting altair<6,>=4.0 (from streamlit)\n",
      "  Using cached altair-5.5.0-py3-none-any.whl.metadata (11 kB)\n",
      "Collecting blinker<2,>=1.5.0 (from streamlit)\n",
      "  Using cached blinker-1.9.0-py3-none-any.whl.metadata (1.6 kB)\n",
      "Requirement already satisfied: cachetools<7,>=4.0 in c:\\users\\rohit rawat\\desktop\\gen_ai\\langchain_expression_language_project\\projenv\\lib\\site-packages (from streamlit) (5.5.2)\n",
      "Requirement already satisfied: click<9,>=7.0 in c:\\users\\rohit rawat\\desktop\\gen_ai\\langchain_expression_language_project\\projenv\\lib\\site-packages (from streamlit) (8.2.1)\n",
      "Requirement already satisfied: numpy<3,>=1.23 in c:\\users\\rohit rawat\\desktop\\gen_ai\\langchain_expression_language_project\\projenv\\lib\\site-packages (from streamlit) (2.3.1)\n",
      "Requirement already satisfied: packaging<26,>=20 in c:\\users\\rohit rawat\\desktop\\gen_ai\\langchain_expression_language_project\\projenv\\lib\\site-packages (from streamlit) (24.2)\n",
      "Requirement already satisfied: pandas<3,>=1.4.0 in c:\\users\\rohit rawat\\desktop\\gen_ai\\langchain_expression_language_project\\projenv\\lib\\site-packages (from streamlit) (2.3.0)\n",
      "Requirement already satisfied: pillow<12,>=7.1.0 in c:\\users\\rohit rawat\\desktop\\gen_ai\\langchain_expression_language_project\\projenv\\lib\\site-packages (from streamlit) (11.2.1)\n",
      "Requirement already satisfied: protobuf<7,>=3.20 in c:\\users\\rohit rawat\\desktop\\gen_ai\\langchain_expression_language_project\\projenv\\lib\\site-packages (from streamlit) (5.29.5)\n",
      "Collecting pyarrow>=7.0 (from streamlit)\n",
      "  Using cached pyarrow-20.0.0-cp311-cp311-win_amd64.whl.metadata (3.4 kB)\n",
      "Requirement already satisfied: requests<3,>=2.27 in c:\\users\\rohit rawat\\desktop\\gen_ai\\langchain_expression_language_project\\projenv\\lib\\site-packages (from streamlit) (2.32.4)\n",
      "Requirement already satisfied: tenacity<10,>=8.1.0 in c:\\users\\rohit rawat\\desktop\\gen_ai\\langchain_expression_language_project\\projenv\\lib\\site-packages (from streamlit) (9.1.2)\n",
      "Collecting toml<2,>=0.10.1 (from streamlit)\n",
      "  Using cached toml-0.10.2-py2.py3-none-any.whl.metadata (7.1 kB)\n",
      "Requirement already satisfied: typing-extensions<5,>=4.4.0 in c:\\users\\rohit rawat\\desktop\\gen_ai\\langchain_expression_language_project\\projenv\\lib\\site-packages (from streamlit) (4.14.0)\n",
      "Collecting watchdog<7,>=2.1.5 (from streamlit)\n",
      "  Using cached watchdog-6.0.0-py3-none-win_amd64.whl.metadata (44 kB)\n",
      "Collecting gitpython!=3.1.19,<4,>=3.0.7 (from streamlit)\n",
      "  Using cached GitPython-3.1.44-py3-none-any.whl.metadata (13 kB)\n",
      "Collecting pydeck<1,>=0.8.0b4 (from streamlit)\n",
      "  Using cached pydeck-0.9.1-py2.py3-none-any.whl.metadata (4.1 kB)\n",
      "Requirement already satisfied: tornado!=6.5.0,<7,>=6.0.3 in c:\\users\\rohit rawat\\desktop\\gen_ai\\langchain_expression_language_project\\projenv\\lib\\site-packages (from streamlit) (6.5.1)\n",
      "Requirement already satisfied: jinja2 in c:\\users\\rohit rawat\\desktop\\gen_ai\\langchain_expression_language_project\\projenv\\lib\\site-packages (from altair<6,>=4.0->streamlit) (3.1.6)\n",
      "Requirement already satisfied: jsonschema>=3.0 in c:\\users\\rohit rawat\\desktop\\gen_ai\\langchain_expression_language_project\\projenv\\lib\\site-packages (from altair<6,>=4.0->streamlit) (4.24.0)\n",
      "Collecting narwhals>=1.14.2 (from altair<6,>=4.0->streamlit)\n",
      "  Using cached narwhals-1.44.0-py3-none-any.whl.metadata (11 kB)\n",
      "Requirement already satisfied: colorama in c:\\users\\rohit rawat\\desktop\\gen_ai\\langchain_expression_language_project\\projenv\\lib\\site-packages (from click<9,>=7.0->streamlit) (0.4.6)\n",
      "Collecting gitdb<5,>=4.0.1 (from gitpython!=3.1.19,<4,>=3.0.7->streamlit)\n",
      "  Using cached gitdb-4.0.12-py3-none-any.whl.metadata (1.2 kB)\n",
      "Collecting smmap<6,>=3.0.1 (from gitdb<5,>=4.0.1->gitpython!=3.1.19,<4,>=3.0.7->streamlit)\n",
      "  Using cached smmap-5.0.2-py3-none-any.whl.metadata (4.3 kB)\n",
      "Requirement already satisfied: python-dateutil>=2.8.2 in c:\\users\\rohit rawat\\desktop\\gen_ai\\langchain_expression_language_project\\projenv\\lib\\site-packages (from pandas<3,>=1.4.0->streamlit) (2.9.0.post0)\n",
      "Requirement already satisfied: pytz>=2020.1 in c:\\users\\rohit rawat\\desktop\\gen_ai\\langchain_expression_language_project\\projenv\\lib\\site-packages (from pandas<3,>=1.4.0->streamlit) (2025.2)\n",
      "Requirement already satisfied: tzdata>=2022.7 in c:\\users\\rohit rawat\\desktop\\gen_ai\\langchain_expression_language_project\\projenv\\lib\\site-packages (from pandas<3,>=1.4.0->streamlit) (2025.2)\n",
      "Requirement already satisfied: charset_normalizer<4,>=2 in c:\\users\\rohit rawat\\desktop\\gen_ai\\langchain_expression_language_project\\projenv\\lib\\site-packages (from requests<3,>=2.27->streamlit) (3.4.2)\n",
      "Requirement already satisfied: idna<4,>=2.5 in c:\\users\\rohit rawat\\desktop\\gen_ai\\langchain_expression_language_project\\projenv\\lib\\site-packages (from requests<3,>=2.27->streamlit) (3.10)\n",
      "Requirement already satisfied: urllib3<3,>=1.21.1 in c:\\users\\rohit rawat\\desktop\\gen_ai\\langchain_expression_language_project\\projenv\\lib\\site-packages (from requests<3,>=2.27->streamlit) (2.5.0)\n",
      "Requirement already satisfied: certifi>=2017.4.17 in c:\\users\\rohit rawat\\desktop\\gen_ai\\langchain_expression_language_project\\projenv\\lib\\site-packages (from requests<3,>=2.27->streamlit) (2025.6.15)\n",
      "Requirement already satisfied: MarkupSafe>=2.0 in c:\\users\\rohit rawat\\desktop\\gen_ai\\langchain_expression_language_project\\projenv\\lib\\site-packages (from jinja2->altair<6,>=4.0->streamlit) (3.0.2)\n",
      "Requirement already satisfied: attrs>=22.2.0 in c:\\users\\rohit rawat\\desktop\\gen_ai\\langchain_expression_language_project\\projenv\\lib\\site-packages (from jsonschema>=3.0->altair<6,>=4.0->streamlit) (25.3.0)\n",
      "Requirement already satisfied: jsonschema-specifications>=2023.03.6 in c:\\users\\rohit rawat\\desktop\\gen_ai\\langchain_expression_language_project\\projenv\\lib\\site-packages (from jsonschema>=3.0->altair<6,>=4.0->streamlit) (2025.4.1)\n",
      "Requirement already satisfied: referencing>=0.28.4 in c:\\users\\rohit rawat\\desktop\\gen_ai\\langchain_expression_language_project\\projenv\\lib\\site-packages (from jsonschema>=3.0->altair<6,>=4.0->streamlit) (0.36.2)\n",
      "Requirement already satisfied: rpds-py>=0.7.1 in c:\\users\\rohit rawat\\desktop\\gen_ai\\langchain_expression_language_project\\projenv\\lib\\site-packages (from jsonschema>=3.0->altair<6,>=4.0->streamlit) (0.25.1)\n",
      "Requirement already satisfied: six>=1.5 in c:\\users\\rohit rawat\\desktop\\gen_ai\\langchain_expression_language_project\\projenv\\lib\\site-packages (from python-dateutil>=2.8.2->pandas<3,>=1.4.0->streamlit) (1.17.0)\n",
      "Using cached streamlit-1.46.1-py3-none-any.whl (10.1 MB)\n",
      "Using cached altair-5.5.0-py3-none-any.whl (731 kB)\n",
      "Using cached blinker-1.9.0-py3-none-any.whl (8.5 kB)\n",
      "Using cached GitPython-3.1.44-py3-none-any.whl (207 kB)\n",
      "Using cached gitdb-4.0.12-py3-none-any.whl (62 kB)\n",
      "Using cached pydeck-0.9.1-py2.py3-none-any.whl (6.9 MB)\n",
      "Using cached smmap-5.0.2-py3-none-any.whl (24 kB)\n",
      "Using cached toml-0.10.2-py2.py3-none-any.whl (16 kB)\n",
      "Using cached watchdog-6.0.0-py3-none-win_amd64.whl (79 kB)\n",
      "Using cached narwhals-1.44.0-py3-none-any.whl (365 kB)\n",
      "Using cached pyarrow-20.0.0-cp311-cp311-win_amd64.whl (25.8 MB)\n",
      "Installing collected packages: watchdog, toml, smmap, pyarrow, narwhals, blinker, pydeck, gitdb, gitpython, altair, streamlit\n",
      "\n",
      "   ----------------------------------------  0/11 [watchdog]\n",
      "   ----------------------------------------  0/11 [watchdog]\n",
      "   --- ------------------------------------  1/11 [toml]\n",
      "   ------- --------------------------------  2/11 [smmap]\n",
      "   ---------- -----------------------------  3/11 [pyarrow]\n",
      "   ---------- -----------------------------  3/11 [pyarrow]\n",
      "   ---------- -----------------------------  3/11 [pyarrow]\n",
      "   ---------- -----------------------------  3/11 [pyarrow]\n",
      "   ---------- -----------------------------  3/11 [pyarrow]\n",
      "   ---------- -----------------------------  3/11 [pyarrow]\n",
      "   ---------- -----------------------------  3/11 [pyarrow]\n",
      "   ---------- -----------------------------  3/11 [pyarrow]\n",
      "   ---------- -----------------------------  3/11 [pyarrow]\n",
      "   ---------- -----------------------------  3/11 [pyarrow]\n",
      "   ---------- -----------------------------  3/11 [pyarrow]\n",
      "   ---------- -----------------------------  3/11 [pyarrow]\n",
      "   ---------- -----------------------------  3/11 [pyarrow]\n",
      "   ---------- -----------------------------  3/11 [pyarrow]\n",
      "   ---------- -----------------------------  3/11 [pyarrow]\n",
      "   ---------- -----------------------------  3/11 [pyarrow]\n",
      "   ---------- -----------------------------  3/11 [pyarrow]\n",
      "   -------------- -------------------------  4/11 [narwhals]\n",
      "   -------------- -------------------------  4/11 [narwhals]\n",
      "   -------------- -------------------------  4/11 [narwhals]\n",
      "   -------------- -------------------------  4/11 [narwhals]\n",
      "   -------------- -------------------------  4/11 [narwhals]\n",
      "   -------------- -------------------------  4/11 [narwhals]\n",
      "   -------------- -------------------------  4/11 [narwhals]\n",
      "   -------------- -------------------------  4/11 [narwhals]\n",
      "   -------------- -------------------------  4/11 [narwhals]\n",
      "   -------------- -------------------------  4/11 [narwhals]\n",
      "   -------------- -------------------------  4/11 [narwhals]\n",
      "   -------------- -------------------------  4/11 [narwhals]\n",
      "   -------------- -------------------------  4/11 [narwhals]\n",
      "   ------------------ ---------------------  5/11 [blinker]\n",
      "   --------------------- ------------------  6/11 [pydeck]\n",
      "   --------------------- ------------------  6/11 [pydeck]\n",
      "   --------------------- ------------------  6/11 [pydeck]\n",
      "   ------------------------- --------------  7/11 [gitdb]\n",
      "   ------------------------- --------------  7/11 [gitdb]\n",
      "   ----------------------------- ----------  8/11 [gitpython]\n",
      "   ----------------------------- ----------  8/11 [gitpython]\n",
      "   ----------------------------- ----------  8/11 [gitpython]\n",
      "   ----------------------------- ----------  8/11 [gitpython]\n",
      "   -------------------------------- -------  9/11 [altair]\n",
      "   -------------------------------- -------  9/11 [altair]\n",
      "   -------------------------------- -------  9/11 [altair]\n",
      "   -------------------------------- -------  9/11 [altair]\n",
      "   -------------------------------- -------  9/11 [altair]\n",
      "   -------------------------------- -------  9/11 [altair]\n",
      "   -------------------------------- -------  9/11 [altair]\n",
      "   ------------------------------------ --- 10/11 [streamlit]\n",
      "   ------------------------------------ --- 10/11 [streamlit]\n",
      "   ------------------------------------ --- 10/11 [streamlit]\n",
      "   ------------------------------------ --- 10/11 [streamlit]\n",
      "   ------------------------------------ --- 10/11 [streamlit]\n",
      "   ------------------------------------ --- 10/11 [streamlit]\n",
      "   ------------------------------------ --- 10/11 [streamlit]\n",
      "   ------------------------------------ --- 10/11 [streamlit]\n",
      "   ------------------------------------ --- 10/11 [streamlit]\n",
      "   ------------------------------------ --- 10/11 [streamlit]\n",
      "   ------------------------------------ --- 10/11 [streamlit]\n",
      "   ------------------------------------ --- 10/11 [streamlit]\n",
      "   ------------------------------------ --- 10/11 [streamlit]\n",
      "   ------------------------------------ --- 10/11 [streamlit]\n",
      "   ------------------------------------ --- 10/11 [streamlit]\n",
      "   ------------------------------------ --- 10/11 [streamlit]\n",
      "   ------------------------------------ --- 10/11 [streamlit]\n",
      "   ------------------------------------ --- 10/11 [streamlit]\n",
      "   ------------------------------------ --- 10/11 [streamlit]\n",
      "   ------------------------------------ --- 10/11 [streamlit]\n",
      "   ------------------------------------ --- 10/11 [streamlit]\n",
      "   ------------------------------------ --- 10/11 [streamlit]\n",
      "   ------------------------------------ --- 10/11 [streamlit]\n",
      "   ------------------------------------ --- 10/11 [streamlit]\n",
      "   ------------------------------------ --- 10/11 [streamlit]\n",
      "   ------------------------------------ --- 10/11 [streamlit]\n",
      "   ------------------------------------ --- 10/11 [streamlit]\n",
      "   ------------------------------------ --- 10/11 [streamlit]\n",
      "   ---------------------------------------- 11/11 [streamlit]\n",
      "\n",
      "Successfully installed altair-5.5.0 blinker-1.9.0 gitdb-4.0.12 gitpython-3.1.44 narwhals-1.44.0 pyarrow-20.0.0 pydeck-0.9.1 smmap-5.0.2 streamlit-1.46.1 toml-0.10.2 watchdog-6.0.0\n"
     ]
    }
   ],
   "source": [
    "!pip install streamlit"
   ]
  },
  {
   "cell_type": "code",
   "execution_count": null,
   "metadata": {},
   "outputs": [],
   "source": []
  },
  {
   "cell_type": "code",
   "execution_count": null,
   "metadata": {},
   "outputs": [],
   "source": []
  },
  {
   "cell_type": "code",
   "execution_count": null,
   "metadata": {},
   "outputs": [],
   "source": []
  },
  {
   "cell_type": "code",
   "execution_count": null,
   "metadata": {},
   "outputs": [],
   "source": []
  }
 ],
 "metadata": {
  "kernelspec": {
   "display_name": "projenv",
   "language": "python",
   "name": "python3"
  },
  "language_info": {
   "codemirror_mode": {
    "name": "ipython",
    "version": 3
   },
   "file_extension": ".py",
   "mimetype": "text/x-python",
   "name": "python",
   "nbconvert_exporter": "python",
   "pygments_lexer": "ipython3",
   "version": "3.11.9"
  }
 },
 "nbformat": 4,
 "nbformat_minor": 2
}
